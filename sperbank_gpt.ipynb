{
 "cells": [
  {
   "cell_type": "code",
   "execution_count": 1,
   "metadata": {},
   "outputs": [
    {
     "name": "stderr",
     "output_type": "stream",
     "text": [
      "/usr/local/lib/python3.11/site-packages/tqdm/auto.py:21: TqdmWarning: IProgress not found. Please update jupyter and ipywidgets. See https://ipywidgets.readthedocs.io/en/stable/user_install.html\n",
      "  from .autonotebook import tqdm as notebook_tqdm\n"
     ]
    },
    {
     "data": {
      "text/plain": [
       "GPT2LMHeadModel(\n",
       "  (transformer): GPT2Model(\n",
       "    (wte): Embedding(50257, 1280)\n",
       "    (wpe): Embedding(1024, 1280)\n",
       "    (drop): Dropout(p=0.1, inplace=False)\n",
       "    (h): ModuleList(\n",
       "      (0-35): 36 x GPT2Block(\n",
       "        (ln_1): LayerNorm((1280,), eps=1e-05, elementwise_affine=True)\n",
       "        (attn): GPT2Attention(\n",
       "          (c_attn): Conv1D()\n",
       "          (c_proj): Conv1D()\n",
       "          (attn_dropout): Dropout(p=0.1, inplace=False)\n",
       "          (resid_dropout): Dropout(p=0.1, inplace=False)\n",
       "        )\n",
       "        (ln_2): LayerNorm((1280,), eps=1e-05, elementwise_affine=True)\n",
       "        (mlp): GPT2MLP(\n",
       "          (c_fc): Conv1D()\n",
       "          (c_proj): Conv1D()\n",
       "          (act): NewGELUActivation()\n",
       "          (dropout): Dropout(p=0.1, inplace=False)\n",
       "        )\n",
       "      )\n",
       "    )\n",
       "    (ln_f): LayerNorm((1280,), eps=1e-05, elementwise_affine=True)\n",
       "  )\n",
       "  (lm_head): Linear(in_features=1280, out_features=50257, bias=False)\n",
       ")"
      ]
     },
     "execution_count": 1,
     "metadata": {},
     "output_type": "execute_result"
    }
   ],
   "source": [
    "from transformers import GPT2LMHeadModel, GPT2Tokenizer\n",
    "tokenizer = GPT2Tokenizer.from_pretrained(\"sberbank-ai/rugpt2large\")\n",
    "model = GPT2LMHeadModel.from_pretrained(\"sberbank-ai/rugpt2large\")\n",
    "#device = torch.device(\"cuda\" if torch.cuda.is_available() else \"cpu\")\n",
    "device = \"cuda\"\n",
    "model.to(device)\n",
    "\n"
   ]
  },
  {
   "cell_type": "code",
   "execution_count": null,
   "metadata": {},
   "outputs": [],
   "source": [
    "description = \"Multilingual generation with mGPT\"\n",
    "def generate(prompt: str, question_num: int):\n",
    "    # Encode the prompt\n",
    "    input_ids = tokenizer.encode(prompt, return_tensors=\"pt\").to(device)\n",
    "    # Generate text\n",
    "    generated_ids = model.generate(\n",
    "        input_ids=input_ids,\n",
    "        min_length=50,\n",
    "        max_length=512,\n",
    "        top_p=0.8,\n",
    "        top_k=1,\n",
    "        no_repeat_ngram_size=20,\n",
    "        pad_token_id=tokenizer.eos_token_id,  # Set pad token to end-of-sequence token\n",
    "        do_sample=True,  # Enable sampling\n",
    "        num_return_sequences=1,  # Generate only one sequence\n",
    "    )\n",
    "\n",
    "    # Decode generated text\n",
    "    generated_text = tokenizer.decode(generated_ids[0], skip_special_tokens=True)\n",
    "    #print(len(generated_text)-len(prompt), generated_text)\n",
    "    # Search for the answer to the requested question\n",
    "    questions = generated_text.split(\"\\n\\n  Q: \")\n",
    "    for i , q in enumerate(questions):\n",
    "        if i == question_num:\n",
    "            return q.split(\"\\n  A: \")[1]\n",
    "\n",
    "    return \"Answer not found\"\n",
    "       \n",
    "\n"
   ]
  },
  {
   "cell_type": "code",
   "execution_count": null,
   "metadata": {},
   "outputs": [],
   "source": [
    "def generate(prompt: str):\n",
    "        input_ids = tokenizer.encode(prompt, return_tensors=\"pt\").cuda(device)\n",
    "        out = model.generate(input_ids, \n",
    "                min_length=10, \n",
    "                max_length=1024, \n",
    "                top_p=0.8, \n",
    "                top_k=1,\n",
    "                do_sample=True,  # Enable sampling\n",
    "                no_repeat_ngram_size=20\n",
    "        )\n",
    "        end = \"<|endoftext|>\"\n",
    "        generated_text = list(map(tokenizer.decode, out))[0]\n",
    "        endoftext_idx = generated_text.find(end)\n",
    "        if endoftext_idx >= 0:\n",
    "                generated_text = generated_text[:endoftext_idx]\n",
    "        return generated_text\n",
    "\n",
    "\n",
    "prompt_hu = \"\"\"Te egy tapasztalt bot vagy aki kérdésekre válaszol.\n",
    "\n",
    "Kérdés: Hol van Budapest?\n",
    "Válasz:\n",
    "\n",
    "\"\"\"\n",
    "print(generate(prompt_hu))"
   ]
  },
  {
   "cell_type": "code",
   "execution_count": null,
   "metadata": {},
   "outputs": [],
   "source": [
    "import re\n",
    "from typing import List\n",
    "from transformers import GPT2LMHeadModel, GPT2Tokenizer\n",
    "tokenizer = GPT2Tokenizer.from_pretrained(\"sberbank-ai/mGPT\")\n",
    "model = GPT2LMHeadModel.from_pretrained(\"sberbank-ai/mGPT\")\n",
    "device = \"cuda\"\n",
    "model.to(device)"
   ]
  },
  {
   "cell_type": "code",
   "execution_count": null,
   "metadata": {},
   "outputs": [],
   "source": [
    "def generate(context: str, questions: List[str]) -> str:\n",
    "    # Concatenate the context and questions\n",
    "    prompt = context + '\\n\\n' + '\\n\\n'.join([f'{i+1}. {q}' for i, q in enumerate(questions)])\n",
    "    # Encode the prompt\n",
    "    input_ids = tokenizer.encode(prompt, return_tensors=\"pt\").to(device)\n",
    "    # Generate text\n",
    "    generated_ids = model.generate(\n",
    "        input_ids=input_ids,\n",
    "        min_length=10,\n",
    "        max_length=1024,\n",
    "        top_p=0.8,\n",
    "        top_k=1,\n",
    "        no_repeat_ngram_size=20,\n",
    "        pad_token_id=tokenizer.eos_token_id,  # Set pad token to end-of-sequence token\n",
    "        do_sample=True,  # Enable sampling\n",
    "        num_return_sequences=1,  # Generate only one sequence\n",
    "    )\n",
    "\n",
    "    # Decode generated text\n",
    "    generated_text = tokenizer.decode(generated_ids[0], skip_special_tokens=True)\n",
    "    print(generated_text)\n",
    "    # Split generated text by the question numbers and return a dictionary\n",
    "    answers = {}\n",
    "    for i, q in enumerate(questions):\n",
    "        # Find the answer text between the question number and the next question number\n",
    "        start = f'{i+1}. {q}\\n\\n'\n",
    "        end = f'{i+2}. ' if i < len(questions) - 1 else ''\n",
    "        answer_text = generated_text.split(start)[-1].split(end)[0]\n",
    "        answers[q] = answer_text.strip()\n",
    "    return answers"
   ]
  },
  {
   "cell_type": "code",
   "execution_count": null,
   "metadata": {},
   "outputs": [],
   "source": [
    "context = \"A termék ára 1024 Ft, színe piros. Jövő héten lesz .Az alábbiakban válaszolunk a felmerült kérdésekre:\\n1. Mikor lesz elérhető az új termék?\\n2. Milyen színekben lesz elérhető?\\n3. Mennyibe fog kerülni az új termék?\"\n",
    "question_1 = \"Mikor lesz elérhető az új termék?\"\n",
    "question_2 = \"Milyen színekben lesz elérhető?\"\n",
    "question_3 = \"Mennyibe fog kerülni az új termék?\"\n",
    "\n",
    "# GPT-2 model válaszgenerálás\n",
    "answers = generate(context, [question_1, question_2, question_3])\n",
    "print(answers)\n",
    "# A válaszok és a kérdések összerendelése az azonosítók alapján\n",
    "answer_dict = {}\n",
    "for answer in answers:\n",
    "    match = re.match(r\"(\\d+)\\. (.+)\", answer)\n",
    "    if match:\n",
    "        question_num = int(match.group(1))\n",
    "        answer_text = match.group(2)\n",
    "        answer_dict[question_num] = answer_text\n",
    "\n",
    "# Az összerendelt válaszok kiírása a kérdésekhez\n",
    "print(\"Válaszok:\")\n",
    "print(f\"1. {answer_dict[1]}\")\n",
    "print(f\"2. {answer_dict[2]}\")\n",
    "print(f\"3. {answer_dict[3]}\")\n"
   ]
  },
  {
   "cell_type": "code",
   "execution_count": null,
   "metadata": {},
   "outputs": [],
   "source": []
  },
  {
   "cell_type": "code",
   "execution_count": null,
   "metadata": {},
   "outputs": [],
   "source": []
  },
  {
   "cell_type": "code",
   "execution_count": null,
   "metadata": {},
   "outputs": [],
   "source": []
  },
  {
   "cell_type": "code",
   "execution_count": null,
   "metadata": {},
   "outputs": [],
   "source": []
  },
  {
   "cell_type": "code",
   "execution_count": null,
   "metadata": {},
   "outputs": [],
   "source": []
  },
  {
   "cell_type": "code",
   "execution_count": null,
   "metadata": {},
   "outputs": [],
   "source": [
    "# https://huggingface.co/models?pipeline_tag=question-answering&language=hu&sort=downloads"
   ]
  },
  {
   "cell_type": "code",
   "execution_count": null,
   "metadata": {},
   "outputs": [],
   "source": [
    "context=\"A szabadság jó\"\n",
    "question=  \"Milyen a szabadság?\" "
   ]
  },
  {
   "cell_type": "code",
   "execution_count": null,
   "metadata": {},
   "outputs": [],
   "source": [
    "from transformers import pipeline\n",
    "qa_pipeline = pipeline(\n",
    "  \"question-answering\",\n",
    "  model = \"ZTamas/hubert-qa-milqa-impossible-long-answer\",\n",
    "  tokenizer = \"ZTamas/hubert-qa-milqa-impossible-long-answer\",\n",
    "  device = 0,                      #GPU selection, -1 on CPU\n",
    "  handle_impossible_answer = True,\n",
    "  max_answer_len = 1000            #This can be modified, but to let the model's\n",
    "                                   #answer be as long as it wants so I\n",
    "                                   #decided to add a big number\n",
    "  )\n",
    "\n",
    "predictions = qa_pipeline({\n",
    "    'context': context,            \n",
    "    'question': question           \n",
    "})\n",
    "\n",
    "print(predictions)\n"
   ]
  },
  {
   "cell_type": "code",
   "execution_count": null,
   "metadata": {},
   "outputs": [],
   "source": []
  }
 ],
 "metadata": {
  "kernelspec": {
   "display_name": "Python 3",
   "language": "python",
   "name": "python3"
  },
  "language_info": {
   "codemirror_mode": {
    "name": "ipython",
    "version": 3
   },
   "file_extension": ".py",
   "mimetype": "text/x-python",
   "name": "python",
   "nbconvert_exporter": "python",
   "pygments_lexer": "ipython3",
   "version": "3.11.3"
  },
  "orig_nbformat": 4,
  "vscode": {
   "interpreter": {
    "hash": "31f2aee4e71d21fbe5cf8b01ff0e069b9275f58929596ceb00d14d90e3e16cd6"
   }
  }
 },
 "nbformat": 4,
 "nbformat_minor": 2
}
