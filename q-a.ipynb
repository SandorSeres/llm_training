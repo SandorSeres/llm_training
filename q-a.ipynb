{
 "cells": [
  {
   "cell_type": "code",
   "execution_count": null,
   "metadata": {},
   "outputs": [],
   "source": [
    "# https://huggingface.co/mcsabai/huBert-fine-tuned-hungarian-squadv1?context=Magyarorsz%C3%A1g+f%C5%91v%C3%A1ros%C3%A1t%2C+Budapestet+a+Duna+foly%C3%B3+szeli+kett%C3%A9.+A+XIX.+sz%C3%A1zadban+%C3%A9p%C3%BClt+L%C3%A1nch%C3%ADd+a+dimbes-dombos+budai+oldalt+k%C3%B6ti+%C3%B6ssze+a+s%C3%ADk+Pesttel.+A+V%C3%A1rdomb+oldal%C3%A1ban+fut%C3%B3+sikl%C3%B3val+juthatunk+fel+a+budai+%C3%93v%C3%A1rosba%2C+ahol+a+Budapesti+T%C3%B6rt%C3%A9neti+M%C3%BAzeum+eg%C3%A9szen+a+r%C3%B3mai+id%C5%91kig+visszavezetve+mutatja+be+a+v%C3%A1rosi+%C3%A9letet.+A+Szenth%C3%A1roms%C3%A1g+t%C3%A9r+ad+otthont+a+XIII.+sz%C3%A1zadi+M%C3%A1ty%C3%A1s-templomnak+%C3%A9s+a+Hal%C3%A1szb%C3%A1stya+l%C5%91tornyainak%2C+amelyekb%C5%91l+messzire+ell%C3%A1tva+gy%C3%B6ny%C3%B6rk%C3%B6dhet%C3%BCnk+a+v%C3%A1rosban.&question=Melyik+foly%C3%B3+szeli+kett%C3%A9+Budapestet%3F"
   ]
  },
  {
   "cell_type": "code",
   "execution_count": 1,
   "metadata": {},
   "outputs": [
    {
     "name": "stderr",
     "output_type": "stream",
     "text": [
      "All model checkpoint layers were used when initializing TFBertForQuestionAnswering.\n",
      "\n",
      "All the layers of TFBertForQuestionAnswering were initialized from the model checkpoint at mcsabai/huBert-fine-tuned-hungarian-squadv2.\n",
      "If your task is similar to the task the model of the checkpoint was trained on, you can already use TFBertForQuestionAnswering for predictions without further training.\n"
     ]
    },
    {
     "name": "stdout",
     "output_type": "stream",
     "text": [
      "{'score': 0.9791226983070374, 'start': 697, 'end': 706, 'answer': 'Chronocam'}\n"
     ]
    }
   ],
   "source": [
    "from transformers import pipeline\n",
    "qa_pipeline = pipeline(\n",
    "    \"question-answering\",\n",
    "    model=\"mcsabai/huBert-fine-tuned-hungarian-squadv2\",\n",
    "    tokenizer=\"mcsabai/huBert-fine-tuned-hungarian-squadv2\"\n",
    ")\n",
    "context = \"\"\"A gépkocsigyártóknak el kell érniük a 100 százalékos biztonságot.\n",
    "Carlos Ghosn, a Renault-Nissan csoport első embere a Web Summit keretében rámutatott arra, hogy - az eddigi fejlesztések ellenére - még további erőfeszítésekre és nagyon sok munkára van szükség azért, hogy a robotjárművek mindenhol biztonságosan közlekedhessenek.\n",
    "A menedzser kijelentette, hogy a céljuk egy olyan technológia megalkotása, amely mindenhol alkalmazható és hibamentesen működik. A 99 és a 100 százalékos megbízhatóság között nagy különbség van. További kihívást jelentenek a különböző közlekedési körülmények. Egyszerűbb például egy robotautót a tokiói forgalomban közlekedtetni, mint Kairóban.\n",
    "A Renault a jövőben a Chronocam nevű céggel fog együttműködni, amely a közlekedési környezet kamerákkal való elemzéséhez fejleszt ki rendszereket. Ghosn szerint a meghatározó gépkocsigyártók a mérnökökre támaszkodnak, de ideje ezen változtatni. Több ezer szoftverfejlesztőre van szükség.\n",
    "A Renault vezetője kitért a közösségi utazásmegosztó platformokra is. Úgy vélte, hogy az olyan szolgáltatók, mint az Uber a következő 10 évben biztosan nem fogják tudni háttérbe szorítani a hagyományos szereplőket. Vannak olyan nyugati nagyvárosok, például New York vagy Párizs, ahol az emberek inkább szeretnek autókat használni, mint birtokolni, de az olyan metropoliszokban és régiókban, mint Moszkva, Mumbai, Rio de Janeiro vagy Afrika a gépkocsik megvásárlása még mindig több egy pusztán racionális döntésnél.\n",
    "Ghosn tavaly márciusban azt mondta, hogy az a trend, hogy egyre több technika kerül a járművekbe egyúttal azt is fogja eredményezni, hogy azok egyre drágábbak lesznek.\"\"\"\n",
    "\n",
    "predictions = qa_pipeline({\n",
    "    'context': context,\n",
    "    'question': \"kivel fog együttműködni a Renault?\"\n",
    "})\n",
    "print(predictions)"
   ]
  },
  {
   "cell_type": "code",
   "execution_count": null,
   "metadata": {},
   "outputs": [],
   "source": []
  }
 ],
 "metadata": {
  "kernelspec": {
   "display_name": "Python 3.8.10 64-bit",
   "language": "python",
   "name": "python3"
  },
  "language_info": {
   "codemirror_mode": {
    "name": "ipython",
    "version": 3
   },
   "file_extension": ".py",
   "mimetype": "text/x-python",
   "name": "python",
   "nbconvert_exporter": "python",
   "pygments_lexer": "ipython3",
   "version": "3.8.10"
  },
  "orig_nbformat": 4,
  "vscode": {
   "interpreter": {
    "hash": "31f2aee4e71d21fbe5cf8b01ff0e069b9275f58929596ceb00d14d90e3e16cd6"
   }
  }
 },
 "nbformat": 4,
 "nbformat_minor": 2
}
